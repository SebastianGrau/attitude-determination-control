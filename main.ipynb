{
  "nbformat": 4,
  "nbformat_minor": 0,
  "metadata": {
    "kernelspec": {
      "display_name": "Python 3",
      "language": "python",
      "name": "python3"
    },
    "language_info": {
      "codemirror_mode": {
        "name": "ipython",
        "version": 3
      },
      "file_extension": ".py",
      "mimetype": "text/x-python",
      "name": "python",
      "nbconvert_exporter": "python",
      "pygments_lexer": "ipython3",
      "version": "3.8.5"
    },
    "colab": {
      "name": "main.ipynb",
      "provenance": []
    }
  },
  "cells": [
    {
      "cell_type": "code",
      "metadata": {
        "colab": {
          "base_uri": "https://localhost:8080/"
        },
        "id": "Nnd0XQjS5RT1",
        "outputId": "76a54022-68d9-4860-b21d-5d16641430fd"
      },
      "source": [
        "!pip install pyquaternion"
      ],
      "execution_count": 1,
      "outputs": [
        {
          "output_type": "stream",
          "text": [
            "Collecting pyquaternion\n",
            "  Downloading https://files.pythonhosted.org/packages/49/b3/d8482e8cacc8ea15a356efea13d22ce1c5914a9ee36622ba250523240bf2/pyquaternion-0.9.9-py3-none-any.whl\n",
            "Requirement already satisfied: numpy in /usr/local/lib/python3.7/dist-packages (from pyquaternion) (1.19.5)\n",
            "Installing collected packages: pyquaternion\n",
            "Successfully installed pyquaternion-0.9.9\n"
          ],
          "name": "stdout"
        }
      ]
    },
    {
      "cell_type": "code",
      "metadata": {
        "id": "07W6gk2C5L_o"
      },
      "source": [
        "from bokeh.io import output_notebook, show, curdoc\n",
        "curdoc().theme = 'light_minimal'\n",
        "output_notebook()\n",
        "from bokeh.plotting import figure\n",
        " \n",
        "import numpy as np\n",
        "import numpy.matlib\n",
        "from numpy import random\n",
        "\n",
        "from scipy.integrate import solve_ivp\n",
        "from scipy.optimize import minimize, fminbound\n",
        "from scipy.interpolate import pchip_interpolate\n",
        "\n",
        "import copy\n",
        "\n",
        "from pyquaternion import Quaternion\n",
        "\n",
        "import math"
      ],
      "execution_count": 5,
      "outputs": []
    },
    {
      "cell_type": "markdown",
      "metadata": {
        "id": "Qp95xo1443P0"
      },
      "source": [
        "# Attitude Determiniation and Control Systems"
      ]
    },
    {
      "cell_type": "markdown",
      "metadata": {
        "id": "opEDlaDu7i--"
      },
      "source": [
        "## Kinematics Equation"
      ]
    },
    {
      "cell_type": "code",
      "metadata": {
        "id": "dJTtRFwv8CoX"
      },
      "source": [
        "def kinematics(attitude = Quaternion(1), rate=np.array((0.0, 0.0, 0.0))):\n",
        "  return attitude.derivative(rate)"
      ],
      "execution_count": 12,
      "outputs": []
    },
    {
      "cell_type": "code",
      "metadata": {
        "id": "hIeWEkwa7iqm"
      },
      "source": [
        "attitude = Quaternion(1)\n",
        "rate = np.radians(np.array((0.2, 0.0, 0.0)))\n",
        "\n",
        "attitude_derivative = kinematics(attitude, rate)"
      ],
      "execution_count": 13,
      "outputs": []
    },
    {
      "cell_type": "code",
      "metadata": {
        "id": "vD9h9LZz8h9H",
        "outputId": "45504b86-3211-4aea-9de4-c1c214cf2dd0",
        "colab": {
          "base_uri": "https://localhost:8080/"
        }
      },
      "source": [
        "# Quaternion kinematics are handled by the Quaternion class\n",
        "print(\"\\nattitude derivative: {0}\".format(attitude_derivative))"
      ],
      "execution_count": 16,
      "outputs": [
        {
          "output_type": "stream",
          "text": [
            "\n",
            "attitude derivative: +0.000 +0.002i +0.000j +0.000k\n"
          ],
          "name": "stdout"
        }
      ]
    },
    {
      "cell_type": "markdown",
      "metadata": {
        "id": "9ISihN3y7SP3"
      },
      "source": [
        "## Dynamics Equation"
      ]
    },
    {
      "cell_type": "code",
      "metadata": {
        "id": "KATG7ghKFieo"
      },
      "source": [
        "def dynamics(inertia=np.eye(3), torques=np.array((0.0, 0.0, 0.0)), rate=np.array((0.0, 0.0, 0.0)), angular_momenta=np.array((0.0, 0.0, 0.0))):\n",
        "  return np.linalg.inv(inertia) @ (torques - np.cross(rate, angular_momenta))"
      ],
      "execution_count": 10,
      "outputs": []
    },
    {
      "cell_type": "code",
      "metadata": {
        "id": "jskhsOvG7_W9"
      },
      "source": [
        "\n",
        "inertia = 2000e-6 * np.eye(3)\n",
        "\n",
        "torques = np.array((0.0, 0.0, 0.0))\n",
        "angular_momenta = np.array((0.0, 0.1, 0.0))\n",
        "\n",
        "rate_derivative = dynamics(inertia, torques, rate, angular_momenta)"
      ],
      "execution_count": null,
      "outputs": []
    },
    {
      "cell_type": "code",
      "metadata": {
        "id": "I4xajbYs7wTO"
      },
      "source": [
        "\n",
        "rate = np.radians(np.array((0.2, 0.0, 0.0)))\n",
        "\n",
        "torques = np.array((0.0, 0.0, 0.0))\n",
        "angular_momenta = np.array((0.0, 0.1, 0.0))\n",
        "\n",
        "rate_derivative = dynamics(inertia, torques, rate, angular_momenta)"
      ],
      "execution_count": null,
      "outputs": []
    },
    {
      "cell_type": "code",
      "metadata": {
        "colab": {
          "base_uri": "https://localhost:8080/"
        },
        "id": "oYHngi1yxrJA",
        "outputId": "18130f70-e0e6-4f8a-c357-59f10657bfc3"
      },
      "source": [
        "print(\"inertia:\\n{0}\".format(inertia))\n",
        "print(\"\\nattitude: {0}\".format(attitude))\n",
        "print(\"\\nrate: {0}\".format(np.degrees(rate)))\n",
        "\n",
        "# dynamics are defined by above function\n",
        "print(\"\\nrate derivative: {0}\".format(rate_derivative))"
      ],
      "execution_count": 8,
      "outputs": [
        {
          "output_type": "stream",
          "text": [
            "inertia:\n",
            "[[0.002 0.    0.   ]\n",
            " [0.    0.002 0.   ]\n",
            " [0.    0.    0.002]]\n",
            "\n",
            "attitude: +1.000 +0.000i +0.000j +0.000k\n",
            "\n",
            "rate: [0.2 0.  0. ]\n",
            "\n",
            "attitude derivative: +0.000 +0.002i +0.000j +0.000k\n",
            "\n",
            "rate derivative: [ 0.          0.         -0.17453293]\n"
          ],
          "name": "stdout"
        }
      ]
    },
    {
      "cell_type": "markdown",
      "metadata": {
        "id": "iMPcueSl6MAy"
      },
      "source": [
        "## pFDA Model"
      ]
    },
    {
      "cell_type": "code",
      "metadata": {
        "id": "UZBKbXF6qoER"
      },
      "source": [
        "def pfda(t, x, u, p):\n",
        "  '''pFDA dynamics'''\n",
        "  return np.array([x[1] + p[0]/p[1] * u, -1/p[1] * (x[1] + p[0]/p[1] * u)]).flatten()\n",
        "\n",
        "pa = [80e-6, 0.5]   # pFDA parameters\n",
        "ua = 1              # control\n",
        "\n",
        "# solve the initial value problem\n",
        "sol = solve_ivp(pfda, [0, 5], [0, 0], args=(ua, pa), first_step=0.1, max_step=0.1)\n",
        "\n",
        "# grab simulation output and create output vector from simulated state vector\n",
        "t = sol.t\n",
        "xa = sol.y\n",
        "ya = copy.deepcopy(xa)\n",
        "ya[1,:] = ya[1,:] + pa[0]/pa[1]*ua"
      ],
      "execution_count": 6,
      "outputs": []
    }
  ]
}