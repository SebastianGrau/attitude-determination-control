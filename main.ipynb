{
  "nbformat": 4,
  "nbformat_minor": 0,
  "metadata": {
    "kernelspec": {
      "display_name": "Python 3",
      "language": "python",
      "name": "python3"
    },
    "language_info": {
      "codemirror_mode": {
        "name": "ipython",
        "version": 3
      },
      "file_extension": ".py",
      "mimetype": "text/x-python",
      "name": "python",
      "nbconvert_exporter": "python",
      "pygments_lexer": "ipython3",
      "version": "3.8.5"
    },
    "colab": {
      "name": "main.ipynb",
      "provenance": []
    }
  },
  "cells": [
    {
      "cell_type": "code",
      "metadata": {
        "colab": {
          "base_uri": "https://localhost:8080/"
        },
        "id": "Nnd0XQjS5RT1",
        "outputId": "76a54022-68d9-4860-b21d-5d16641430fd"
      },
      "source": [
        "!pip install pyquaternion"
      ],
      "execution_count": 1,
      "outputs": [
        {
          "output_type": "stream",
          "text": [
            "Collecting pyquaternion\n",
            "  Downloading https://files.pythonhosted.org/packages/49/b3/d8482e8cacc8ea15a356efea13d22ce1c5914a9ee36622ba250523240bf2/pyquaternion-0.9.9-py3-none-any.whl\n",
            "Requirement already satisfied: numpy in /usr/local/lib/python3.7/dist-packages (from pyquaternion) (1.19.5)\n",
            "Installing collected packages: pyquaternion\n",
            "Successfully installed pyquaternion-0.9.9\n"
          ],
          "name": "stdout"
        }
      ]
    },
    {
      "cell_type": "code",
      "metadata": {
        "id": "07W6gk2C5L_o"
      },
      "source": [
        "from bokeh.io import output_notebook, show, curdoc\n",
        "curdoc().theme = 'light_minimal'\n",
        "output_notebook()\n",
        "from bokeh.plotting import figure\n",
        " \n",
        "import numpy as np\n",
        "import numpy.matlib\n",
        "from numpy import random\n",
        "\n",
        "from scipy.integrate import solve_ivp\n",
        "from scipy.optimize import minimize, fminbound\n",
        "from scipy.interpolate import pchip_interpolate\n",
        "\n",
        "import copy\n",
        "\n",
        "from pyquaternion import Quaternion\n",
        "\n",
        "import math"
      ],
      "execution_count": 5,
      "outputs": []
    },
    {
      "cell_type": "markdown",
      "metadata": {
        "id": "Qp95xo1443P0"
      },
      "source": [
        "# Attitude Determiniation and Control Systems"
      ]
    },
    {
      "cell_type": "markdown",
      "metadata": {
        "id": "iMPcueSl6MAy"
      },
      "source": [
        "## pFDA Model"
      ]
    },
    {
      "cell_type": "code",
      "metadata": {
        "id": "UZBKbXF6qoER"
      },
      "source": [
        "def pfda(t, x, u, p):\n",
        "  '''pFDA dynamics'''\n",
        "  return np.array([x[1] + p[0]/p[1] * u, -1/p[1] * (x[1] + p[0]/p[1] * u)]).flatten()\n",
        "\n",
        "pa = [80e-6, 0.5]   # pFDA parameters\n",
        "ua = 1              # control\n",
        "\n",
        "# solve the initial value problem\n",
        "sol = solve_ivp(pfda, [0, 5], [0, 0], args=(ua, pa), first_step=0.1, max_step=0.1)\n",
        "\n",
        "# grab simulation output and create output vector from simulated state vector\n",
        "t = sol.t\n",
        "xa = sol.y\n",
        "ya = copy.deepcopy(xa)\n",
        "ya[1,:] = ya[1,:] + pa[0]/pa[1]*ua"
      ],
      "execution_count": 6,
      "outputs": []
    }
  ]
}