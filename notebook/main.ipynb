{
  "nbformat": 4,
  "nbformat_minor": 0,
  "metadata": {
    "kernelspec": {
      "name": "python385jvsc74a57bd031f2aee4e71d21fbe5cf8b01ff0e069b9275f58929596ceb00d14d90e3e16cd6",
      "display_name": "Python 3.8.5 64-bit"
    },
    "language_info": {
      "codemirror_mode": {
        "name": "ipython",
        "version": 3
      },
      "file_extension": ".py",
      "mimetype": "text/x-python",
      "name": "python",
      "nbconvert_exporter": "python",
      "pygments_lexer": "ipython3",
      "version": "3.8.5-final"
    },
    "colab": {
      "name": "main.ipynb",
      "provenance": []
    }
  },
  "cells": [
    {
      "cell_type": "code",
      "metadata": {
        "id": "07W6gk2C5L_o"
      },
      "source": [
        "from bokeh.io import output_notebook, show, curdoc\n",
        "curdoc().theme = 'light_minimal'\n",
        "output_notebook()\n",
        "from bokeh.plotting import figure\n",
        " \n",
        "import numpy as np\n",
        "import numpy.matlib\n",
        "from numpy import random\n",
        "\n",
        "from scipy.integrate import solve_ivp\n",
        "from scipy.optimize import minimize, fminbound\n",
        "from scipy.interpolate import pchip_interpolate\n",
        "\n",
        "import copy\n",
        "\n",
        "from pyquaternion import Quaternion\n",
        "\n",
        "import math\n",
        "\n",
        "import warnings"
      ],
      "execution_count": 13,
      "outputs": [
        {
          "output_type": "display_data",
          "data": {
            "text/html": "\n    <div class=\"bk-root\">\n        <a href=\"https://bokeh.org\" target=\"_blank\" class=\"bk-logo bk-logo-small bk-logo-notebook\"></a>\n        <span id=\"1007\">Loading BokehJS ...</span>\n    </div>"
          },
          "metadata": {}
        },
        {
          "output_type": "display_data",
          "data": {
            "application/javascript": "\n(function(root) {\n  function now() {\n    return new Date();\n  }\n\n  var force = true;\n\n  if (typeof root._bokeh_onload_callbacks === \"undefined\" || force === true) {\n    root._bokeh_onload_callbacks = [];\n    root._bokeh_is_loading = undefined;\n  }\n\n  var JS_MIME_TYPE = 'application/javascript';\n  var HTML_MIME_TYPE = 'text/html';\n  var EXEC_MIME_TYPE = 'application/vnd.bokehjs_exec.v0+json';\n  var CLASS_NAME = 'output_bokeh rendered_html';\n\n  /**\n   * Render data to the DOM node\n   */\n  function render(props, node) {\n    var script = document.createElement(\"script\");\n    node.appendChild(script);\n  }\n\n  /**\n   * Handle when an output is cleared or removed\n   */\n  function handleClearOutput(event, handle) {\n    var cell = handle.cell;\n\n    var id = cell.output_area._bokeh_element_id;\n    var server_id = cell.output_area._bokeh_server_id;\n    // Clean up Bokeh references\n    if (id != null && id in Bokeh.index) {\n      Bokeh.index[id].model.document.clear();\n      delete Bokeh.index[id];\n    }\n\n    if (server_id !== undefined) {\n      // Clean up Bokeh references\n      var cmd = \"from bokeh.io.state import curstate; print(curstate().uuid_to_server['\" + server_id + \"'].get_sessions()[0].document.roots[0]._id)\";\n      cell.notebook.kernel.execute(cmd, {\n        iopub: {\n          output: function(msg) {\n            var id = msg.content.text.trim();\n            if (id in Bokeh.index) {\n              Bokeh.index[id].model.document.clear();\n              delete Bokeh.index[id];\n            }\n          }\n        }\n      });\n      // Destroy server and session\n      var cmd = \"import bokeh.io.notebook as ion; ion.destroy_server('\" + server_id + \"')\";\n      cell.notebook.kernel.execute(cmd);\n    }\n  }\n\n  /**\n   * Handle when a new output is added\n   */\n  function handleAddOutput(event, handle) {\n    var output_area = handle.output_area;\n    var output = handle.output;\n\n    // limit handleAddOutput to display_data with EXEC_MIME_TYPE content only\n    if ((output.output_type != \"display_data\") || (!Object.prototype.hasOwnProperty.call(output.data, EXEC_MIME_TYPE))) {\n      return\n    }\n\n    var toinsert = output_area.element.find(\".\" + CLASS_NAME.split(' ')[0]);\n\n    if (output.metadata[EXEC_MIME_TYPE][\"id\"] !== undefined) {\n      toinsert[toinsert.length - 1].firstChild.textContent = output.data[JS_MIME_TYPE];\n      // store reference to embed id on output_area\n      output_area._bokeh_element_id = output.metadata[EXEC_MIME_TYPE][\"id\"];\n    }\n    if (output.metadata[EXEC_MIME_TYPE][\"server_id\"] !== undefined) {\n      var bk_div = document.createElement(\"div\");\n      bk_div.innerHTML = output.data[HTML_MIME_TYPE];\n      var script_attrs = bk_div.children[0].attributes;\n      for (var i = 0; i < script_attrs.length; i++) {\n        toinsert[toinsert.length - 1].firstChild.setAttribute(script_attrs[i].name, script_attrs[i].value);\n        toinsert[toinsert.length - 1].firstChild.textContent = bk_div.children[0].textContent\n      }\n      // store reference to server id on output_area\n      output_area._bokeh_server_id = output.metadata[EXEC_MIME_TYPE][\"server_id\"];\n    }\n  }\n\n  function register_renderer(events, OutputArea) {\n\n    function append_mime(data, metadata, element) {\n      // create a DOM node to render to\n      var toinsert = this.create_output_subarea(\n        metadata,\n        CLASS_NAME,\n        EXEC_MIME_TYPE\n      );\n      this.keyboard_manager.register_events(toinsert);\n      // Render to node\n      var props = {data: data, metadata: metadata[EXEC_MIME_TYPE]};\n      render(props, toinsert[toinsert.length - 1]);\n      element.append(toinsert);\n      return toinsert\n    }\n\n    /* Handle when an output is cleared or removed */\n    events.on('clear_output.CodeCell', handleClearOutput);\n    events.on('delete.Cell', handleClearOutput);\n\n    /* Handle when a new output is added */\n    events.on('output_added.OutputArea', handleAddOutput);\n\n    /**\n     * Register the mime type and append_mime function with output_area\n     */\n    OutputArea.prototype.register_mime_type(EXEC_MIME_TYPE, append_mime, {\n      /* Is output safe? */\n      safe: true,\n      /* Index of renderer in `output_area.display_order` */\n      index: 0\n    });\n  }\n\n  // register the mime type if in Jupyter Notebook environment and previously unregistered\n  if (root.Jupyter !== undefined) {\n    var events = require('base/js/events');\n    var OutputArea = require('notebook/js/outputarea').OutputArea;\n\n    if (OutputArea.prototype.mime_types().indexOf(EXEC_MIME_TYPE) == -1) {\n      register_renderer(events, OutputArea);\n    }\n  }\n\n  \n  if (typeof (root._bokeh_timeout) === \"undefined\" || force === true) {\n    root._bokeh_timeout = Date.now() + 5000;\n    root._bokeh_failed_load = false;\n  }\n\n  var NB_LOAD_WARNING = {'data': {'text/html':\n     \"<div style='background-color: #fdd'>\\n\"+\n     \"<p>\\n\"+\n     \"BokehJS does not appear to have successfully loaded. If loading BokehJS from CDN, this \\n\"+\n     \"may be due to a slow or bad network connection. Possible fixes:\\n\"+\n     \"</p>\\n\"+\n     \"<ul>\\n\"+\n     \"<li>re-rerun `output_notebook()` to attempt to load from CDN again, or</li>\\n\"+\n     \"<li>use INLINE resources instead, as so:</li>\\n\"+\n     \"</ul>\\n\"+\n     \"<code>\\n\"+\n     \"from bokeh.resources import INLINE\\n\"+\n     \"output_notebook(resources=INLINE)\\n\"+\n     \"</code>\\n\"+\n     \"</div>\"}};\n\n  function display_loaded() {\n    var el = document.getElementById(\"1007\");\n    if (el != null) {\n      el.textContent = \"BokehJS is loading...\";\n    }\n    if (root.Bokeh !== undefined) {\n      if (el != null) {\n        el.textContent = \"BokehJS \" + root.Bokeh.version + \" successfully loaded.\";\n      }\n    } else if (Date.now() < root._bokeh_timeout) {\n      setTimeout(display_loaded, 100)\n    }\n  }\n\n\n  function run_callbacks() {\n    try {\n      root._bokeh_onload_callbacks.forEach(function(callback) {\n        if (callback != null)\n          callback();\n      });\n    } finally {\n      delete root._bokeh_onload_callbacks\n    }\n    console.debug(\"Bokeh: all callbacks have finished\");\n  }\n\n  function load_libs(css_urls, js_urls, callback) {\n    if (css_urls == null) css_urls = [];\n    if (js_urls == null) js_urls = [];\n\n    root._bokeh_onload_callbacks.push(callback);\n    if (root._bokeh_is_loading > 0) {\n      console.debug(\"Bokeh: BokehJS is being loaded, scheduling callback at\", now());\n      return null;\n    }\n    if (js_urls == null || js_urls.length === 0) {\n      run_callbacks();\n      return null;\n    }\n    console.debug(\"Bokeh: BokehJS not loaded, scheduling load and callback at\", now());\n    root._bokeh_is_loading = css_urls.length + js_urls.length;\n\n    function on_load() {\n      root._bokeh_is_loading--;\n      if (root._bokeh_is_loading === 0) {\n        console.debug(\"Bokeh: all BokehJS libraries/stylesheets loaded\");\n        run_callbacks()\n      }\n    }\n\n    function on_error(url) {\n      console.error(\"failed to load \" + url);\n    }\n\n    for (let i = 0; i < css_urls.length; i++) {\n      const url = css_urls[i];\n      const element = document.createElement(\"link\");\n      element.onload = on_load;\n      element.onerror = on_error.bind(null, url);\n      element.rel = \"stylesheet\";\n      element.type = \"text/css\";\n      element.href = url;\n      console.debug(\"Bokeh: injecting link tag for BokehJS stylesheet: \", url);\n      document.body.appendChild(element);\n    }\n\n    const hashes = {\"https://cdn.bokeh.org/bokeh/release/bokeh-2.3.1.min.js\": \"YF85VygJKMVnHE+lLv2AM93Vbstr0yo2TbIu5v8se5Rq3UQAUmcuh4aaJwNlpKwa\", \"https://cdn.bokeh.org/bokeh/release/bokeh-widgets-2.3.1.min.js\": \"KKuas3gevv3PvrlkyCMzffFeaMq5we/a2QsP5AUoS3mJ0jmaCL7jirFJN3GoE/lM\", \"https://cdn.bokeh.org/bokeh/release/bokeh-tables-2.3.1.min.js\": \"MK/uFc3YT18pkvvXRl66tTHjP0/dxoSH2e/eiNMFIguKlun2+WVqaPTWmUy/zvh4\"};\n\n    for (let i = 0; i < js_urls.length; i++) {\n      const url = js_urls[i];\n      const element = document.createElement('script');\n      element.onload = on_load;\n      element.onerror = on_error.bind(null, url);\n      element.async = false;\n      element.src = url;\n      if (url in hashes) {\n        element.crossOrigin = \"anonymous\";\n        element.integrity = \"sha384-\" + hashes[url];\n      }\n      console.debug(\"Bokeh: injecting script tag for BokehJS library: \", url);\n      document.head.appendChild(element);\n    }\n  };\n\n  function inject_raw_css(css) {\n    const element = document.createElement(\"style\");\n    element.appendChild(document.createTextNode(css));\n    document.body.appendChild(element);\n  }\n\n  \n  var js_urls = [\"https://cdn.bokeh.org/bokeh/release/bokeh-2.3.1.min.js\", \"https://cdn.bokeh.org/bokeh/release/bokeh-widgets-2.3.1.min.js\", \"https://cdn.bokeh.org/bokeh/release/bokeh-tables-2.3.1.min.js\"];\n  var css_urls = [];\n  \n\n  var inline_js = [\n    function(Bokeh) {\n      Bokeh.set_log_level(\"info\");\n    },\n    function(Bokeh) {\n    \n    \n    }\n  ];\n\n  function run_inline_js() {\n    \n    if (root.Bokeh !== undefined || force === true) {\n      \n    for (var i = 0; i < inline_js.length; i++) {\n      inline_js[i].call(root, root.Bokeh);\n    }\n    if (force === true) {\n        display_loaded();\n      }} else if (Date.now() < root._bokeh_timeout) {\n      setTimeout(run_inline_js, 100);\n    } else if (!root._bokeh_failed_load) {\n      console.log(\"Bokeh: BokehJS failed to load within specified timeout.\");\n      root._bokeh_failed_load = true;\n    } else if (force !== true) {\n      var cell = $(document.getElementById(\"1007\")).parents('.cell').data().cell;\n      cell.output_area.append_execute_result(NB_LOAD_WARNING)\n    }\n\n  }\n\n  if (root._bokeh_is_loading === 0) {\n    console.debug(\"Bokeh: BokehJS loaded, going straight to plotting\");\n    run_inline_js();\n  } else {\n    load_libs(css_urls, js_urls, function() {\n      console.debug(\"Bokeh: BokehJS plotting callback run at\", now());\n      run_inline_js();\n    });\n  }\n}(window));",
            "application/vnd.bokehjs_load.v0+json": "\n(function(root) {\n  function now() {\n    return new Date();\n  }\n\n  var force = true;\n\n  if (typeof root._bokeh_onload_callbacks === \"undefined\" || force === true) {\n    root._bokeh_onload_callbacks = [];\n    root._bokeh_is_loading = undefined;\n  }\n\n  \n\n  \n  if (typeof (root._bokeh_timeout) === \"undefined\" || force === true) {\n    root._bokeh_timeout = Date.now() + 5000;\n    root._bokeh_failed_load = false;\n  }\n\n  var NB_LOAD_WARNING = {'data': {'text/html':\n     \"<div style='background-color: #fdd'>\\n\"+\n     \"<p>\\n\"+\n     \"BokehJS does not appear to have successfully loaded. If loading BokehJS from CDN, this \\n\"+\n     \"may be due to a slow or bad network connection. Possible fixes:\\n\"+\n     \"</p>\\n\"+\n     \"<ul>\\n\"+\n     \"<li>re-rerun `output_notebook()` to attempt to load from CDN again, or</li>\\n\"+\n     \"<li>use INLINE resources instead, as so:</li>\\n\"+\n     \"</ul>\\n\"+\n     \"<code>\\n\"+\n     \"from bokeh.resources import INLINE\\n\"+\n     \"output_notebook(resources=INLINE)\\n\"+\n     \"</code>\\n\"+\n     \"</div>\"}};\n\n  function display_loaded() {\n    var el = document.getElementById(\"1007\");\n    if (el != null) {\n      el.textContent = \"BokehJS is loading...\";\n    }\n    if (root.Bokeh !== undefined) {\n      if (el != null) {\n        el.textContent = \"BokehJS \" + root.Bokeh.version + \" successfully loaded.\";\n      }\n    } else if (Date.now() < root._bokeh_timeout) {\n      setTimeout(display_loaded, 100)\n    }\n  }\n\n\n  function run_callbacks() {\n    try {\n      root._bokeh_onload_callbacks.forEach(function(callback) {\n        if (callback != null)\n          callback();\n      });\n    } finally {\n      delete root._bokeh_onload_callbacks\n    }\n    console.debug(\"Bokeh: all callbacks have finished\");\n  }\n\n  function load_libs(css_urls, js_urls, callback) {\n    if (css_urls == null) css_urls = [];\n    if (js_urls == null) js_urls = [];\n\n    root._bokeh_onload_callbacks.push(callback);\n    if (root._bokeh_is_loading > 0) {\n      console.debug(\"Bokeh: BokehJS is being loaded, scheduling callback at\", now());\n      return null;\n    }\n    if (js_urls == null || js_urls.length === 0) {\n      run_callbacks();\n      return null;\n    }\n    console.debug(\"Bokeh: BokehJS not loaded, scheduling load and callback at\", now());\n    root._bokeh_is_loading = css_urls.length + js_urls.length;\n\n    function on_load() {\n      root._bokeh_is_loading--;\n      if (root._bokeh_is_loading === 0) {\n        console.debug(\"Bokeh: all BokehJS libraries/stylesheets loaded\");\n        run_callbacks()\n      }\n    }\n\n    function on_error(url) {\n      console.error(\"failed to load \" + url);\n    }\n\n    for (let i = 0; i < css_urls.length; i++) {\n      const url = css_urls[i];\n      const element = document.createElement(\"link\");\n      element.onload = on_load;\n      element.onerror = on_error.bind(null, url);\n      element.rel = \"stylesheet\";\n      element.type = \"text/css\";\n      element.href = url;\n      console.debug(\"Bokeh: injecting link tag for BokehJS stylesheet: \", url);\n      document.body.appendChild(element);\n    }\n\n    const hashes = {\"https://cdn.bokeh.org/bokeh/release/bokeh-2.3.1.min.js\": \"YF85VygJKMVnHE+lLv2AM93Vbstr0yo2TbIu5v8se5Rq3UQAUmcuh4aaJwNlpKwa\", \"https://cdn.bokeh.org/bokeh/release/bokeh-widgets-2.3.1.min.js\": \"KKuas3gevv3PvrlkyCMzffFeaMq5we/a2QsP5AUoS3mJ0jmaCL7jirFJN3GoE/lM\", \"https://cdn.bokeh.org/bokeh/release/bokeh-tables-2.3.1.min.js\": \"MK/uFc3YT18pkvvXRl66tTHjP0/dxoSH2e/eiNMFIguKlun2+WVqaPTWmUy/zvh4\"};\n\n    for (let i = 0; i < js_urls.length; i++) {\n      const url = js_urls[i];\n      const element = document.createElement('script');\n      element.onload = on_load;\n      element.onerror = on_error.bind(null, url);\n      element.async = false;\n      element.src = url;\n      if (url in hashes) {\n        element.crossOrigin = \"anonymous\";\n        element.integrity = \"sha384-\" + hashes[url];\n      }\n      console.debug(\"Bokeh: injecting script tag for BokehJS library: \", url);\n      document.head.appendChild(element);\n    }\n  };\n\n  function inject_raw_css(css) {\n    const element = document.createElement(\"style\");\n    element.appendChild(document.createTextNode(css));\n    document.body.appendChild(element);\n  }\n\n  \n  var js_urls = [\"https://cdn.bokeh.org/bokeh/release/bokeh-2.3.1.min.js\", \"https://cdn.bokeh.org/bokeh/release/bokeh-widgets-2.3.1.min.js\", \"https://cdn.bokeh.org/bokeh/release/bokeh-tables-2.3.1.min.js\"];\n  var css_urls = [];\n  \n\n  var inline_js = [\n    function(Bokeh) {\n      Bokeh.set_log_level(\"info\");\n    },\n    function(Bokeh) {\n    \n    \n    }\n  ];\n\n  function run_inline_js() {\n    \n    if (root.Bokeh !== undefined || force === true) {\n      \n    for (var i = 0; i < inline_js.length; i++) {\n      inline_js[i].call(root, root.Bokeh);\n    }\n    if (force === true) {\n        display_loaded();\n      }} else if (Date.now() < root._bokeh_timeout) {\n      setTimeout(run_inline_js, 100);\n    } else if (!root._bokeh_failed_load) {\n      console.log(\"Bokeh: BokehJS failed to load within specified timeout.\");\n      root._bokeh_failed_load = true;\n    } else if (force !== true) {\n      var cell = $(document.getElementById(\"1007\")).parents('.cell').data().cell;\n      cell.output_area.append_execute_result(NB_LOAD_WARNING)\n    }\n\n  }\n\n  if (root._bokeh_is_loading === 0) {\n    console.debug(\"Bokeh: BokehJS loaded, going straight to plotting\");\n    run_inline_js();\n  } else {\n    load_libs(css_urls, js_urls, function() {\n      console.debug(\"Bokeh: BokehJS plotting callback run at\", now());\n      run_inline_js();\n    });\n  }\n}(window));"
          },
          "metadata": {}
        }
      ]
    },
    {
      "cell_type": "markdown",
      "metadata": {
        "id": "Qp95xo1443P0"
      },
      "source": [
        "# Attitude Determiniation and Control Systems"
      ]
    },
    {
      "cell_type": "markdown",
      "metadata": {
        "id": "opEDlaDu7i--"
      },
      "source": [
        "## Kinematics Equation"
      ]
    },
    {
      "cell_type": "code",
      "metadata": {
        "id": "dJTtRFwv8CoX"
      },
      "source": [
        "def kinematics(attitude = Quaternion(1), rate=np.array((0.0, 0.0, 0.0))):\n",
        "  return attitude.derivative(rate)"
      ],
      "execution_count": 14,
      "outputs": []
    },
    {
      "cell_type": "code",
      "metadata": {
        "colab": {
          "base_uri": "https://localhost:8080/"
        },
        "id": "hIeWEkwa7iqm",
        "outputId": "76245c1d-5acd-4fc3-a73c-25a8aa69e711"
      },
      "source": [
        "attitude = Quaternion(1)\n",
        "rate = np.radians(np.array((0.2, 0.0, 0.0)))\n",
        "print(rate)\n",
        "\n",
        "attitude_derivative = kinematics(attitude, rate)"
      ],
      "execution_count": 15,
      "outputs": [
        {
          "output_type": "stream",
          "name": "stdout",
          "text": [
            "[0.00349066 0.         0.        ]\n"
          ]
        }
      ]
    },
    {
      "cell_type": "code",
      "metadata": {
        "colab": {
          "base_uri": "https://localhost:8080/"
        },
        "id": "vD9h9LZz8h9H",
        "outputId": "f9fe78a9-0ccc-4a0b-8524-587bb99d44a7"
      },
      "source": [
        "# Quaternion kinematics are handled by the Quaternion class\n",
        "print(\"\\nattitude derivative: {0}\".format(attitude_derivative))"
      ],
      "execution_count": 16,
      "outputs": [
        {
          "output_type": "stream",
          "name": "stdout",
          "text": [
            "\nattitude derivative: +0.000 +0.002i +0.000j +0.000k\n"
          ]
        }
      ]
    },
    {
      "cell_type": "markdown",
      "metadata": {
        "id": "9ISihN3y7SP3"
      },
      "source": [
        "## Dynamics Equation"
      ]
    },
    {
      "cell_type": "code",
      "metadata": {
        "id": "KATG7ghKFieo"
      },
      "source": [
        "def dynamics(inertia=np.eye(3), torques=np.array((0.0, 0.0, 0.0)), rate=np.array((0.0, 0.0, 0.0)), angular_momenta=np.array((0.0, 0.0, 0.0))):\n",
        "  return np.linalg.inv(inertia) @ (torques - np.cross(rate, inertia @ rate + angular_momenta))"
      ],
      "execution_count": 17,
      "outputs": []
    },
    {
      "cell_type": "code",
      "metadata": {
        "id": "jskhsOvG7_W9"
      },
      "source": [
        "inertia = 2000e-6 * np.eye(3)\n",
        "\n",
        "torques = np.array((1e-6, 0.0, 0.0))\n",
        "angular_momenta = np.array((0.0, 0.1, 0.0))\n",
        "\n",
        "rate_derivative = dynamics(inertia, torques, rate, angular_momenta)"
      ],
      "execution_count": 18,
      "outputs": []
    },
    {
      "cell_type": "code",
      "metadata": {
        "colab": {
          "base_uri": "https://localhost:8080/"
        },
        "id": "oYHngi1yxrJA",
        "outputId": "062498b3-7d79-41a7-e8c9-31014d761214"
      },
      "source": [
        "print(\"inertia:\\n{0}\".format(inertia))\n",
        "print(\"\\nattitude: {0}\".format(attitude))\n",
        "print(\"\\nrate: {0}\".format(np.degrees(rate)))\n",
        "\n",
        "# dynamics are defined by above function\n",
        "print(\"\\nrate derivative: {0}\".format(rate_derivative))"
      ],
      "execution_count": 19,
      "outputs": [
        {
          "output_type": "stream",
          "name": "stdout",
          "text": [
            "inertia:\n[[0.002 0.    0.   ]\n [0.    0.002 0.   ]\n [0.    0.    0.002]]\n\nattitude: +1.000 +0.000i +0.000j +0.000k\n\nrate: [0.2 0.  0. ]\n\nrate derivative: [ 0.0005      0.         -0.17453293]\n"
          ]
        }
      ]
    },
    {
      "cell_type": "markdown",
      "metadata": {
        "id": "iMPcueSl6MAy"
      },
      "source": [
        "## pFDA Model"
      ]
    },
    {
      "cell_type": "code",
      "metadata": {
        "id": "ryHXISuv90Ws"
      },
      "source": [
        "class Actuator:\n",
        "  \"\"\"Actuator base class.\n",
        "  \"\"\"\n",
        "  def __init__(self, alignment=np.array((1.0, 0.0, 0.0)), angular_momentum=0, input=0, torque=0):\n",
        "    self.alignment = alignment\n",
        "    self.angular_momentum = angular_momentum\n",
        "    self.input = input\n",
        "    self.torque = torque\n",
        "\n",
        "  @property\n",
        "  def alignment(self):\n",
        "    return self._alignment\n",
        "\n",
        "  @alignment.setter\n",
        "  def alignment(self, new):\n",
        "    self._alignment = new\n",
        "\n",
        "  @property\n",
        "  def angular_momentum(self):\n",
        "    return self._angular_momentum * self._alignment\n",
        "\n",
        "  @angular_momentum.setter\n",
        "  def angular_momentum(self, new):\n",
        "    self._angular_momentum = new\n",
        "\n",
        "  @property\n",
        "  def input(self):\n",
        "    return self._input\n",
        "\n",
        "  @input.setter\n",
        "  def input(self, new):\n",
        "    self._input = new\n",
        "\n",
        "  @property\n",
        "  def torque(self):\n",
        "    return self._torque * self._alignment\n",
        "\n",
        "  @torque.setter\n",
        "  def torque(self, new):\n",
        "    self._torque = new"
      ],
      "execution_count": 20,
      "outputs": []
    },
    {
      "cell_type": "code",
      "metadata": {
        "id": "OP63lweE-rHK",
        "outputId": "05bdfbb0-662d-4b6d-85d6-3ea06eeb827b",
        "colab": {
          "base_uri": "https://localhost:8080/",
          "height": 235
        }
      },
      "source": [
        "actuator = Actuator(torque=1e-6)\n",
        "print(actuator.torque)\n",
        "print(actuator.angular_momentum)\n",
        "actuator.input = 1\n",
        "print(actuator.input)"
      ],
      "execution_count": 23,
      "outputs": [
        {
          "output_type": "stream",
          "name": "stdout",
          "text": [
            "[1.e-06 0.e+00 0.e+00]\n[0. 0. 0.]\n1\n"
          ]
        }
      ]
    },
    {
      "cell_type": "code",
      "metadata": {
        "id": "o3lPBEmSEmEH"
      },
      "source": [
        "class Pfda(Actuator):\n",
        "  def __init__(self, alignment=np.array((1.0, 0.0, 0.0)), angular_momentum=0, gain=1, input=0, time_constant=1, torque=0):\n",
        "    super().__init__(alignment=alignment, angular_momentum=angular_momentum, input=input, torque=torque)\n",
        "    self.gain = gain\n",
        "    self.time_constant = time_constant\n",
        "\n",
        "  @property\n",
        "  def gain(self):\n",
        "    return self._gain\n",
        "\n",
        "  @gain.setter\n",
        "  def gain(self, new):\n",
        "    if new > 0:\n",
        "      self._gain = new\n",
        "    else:\n",
        "      raise ValueError('Negative gain is not allowed!')\n",
        "\n",
        "  @property\n",
        "  def input(self):\n",
        "    return self._input\n",
        "    \n",
        "  @input.setter\n",
        "  def input(self, new):\n",
        "    if new < -1:\n",
        "      self._input = -1\n",
        "      warnings.warn(\"Input less than -1\")\n",
        "    elif new > 1:\n",
        "      self._input = 1\n",
        "      warnings.warn(\"Input greater than 1\")\n",
        "    else:\n",
        "      self._input = new\n",
        "  \n",
        "  @property\n",
        "  def time_constant(self):\n",
        "    return self._time_constant\n",
        "\n",
        "  @time_constant.setter\n",
        "  def time_constant(self, new):\n",
        "    if new > 0:\n",
        "      self._time_constant = new\n",
        "    else:\n",
        "      raise ValueError('Negative time constant is not allowed')"
      ],
      "execution_count": 24,
      "outputs": []
    },
    {
      "cell_type": "code",
      "metadata": {
        "id": "e3pEVNclHmfy",
        "outputId": "cc118915-a853-4e10-c213-0296c4582741",
        "colab": {
          "base_uri": "https://localhost:8080/"
        }
      },
      "source": [
        "pfda = Pfda(gain=80e-6, time_constant=0.5)\n",
        "print(pfda.gain)\n",
        "print(pfda.time_constant)\n",
        "print(pfda.input)"
      ],
      "execution_count": 62,
      "outputs": [
        {
          "output_type": "stream",
          "text": [
            "8e-05\n",
            "0.5\n",
            "0\n"
          ],
          "name": "stdout"
        }
      ]
    },
    {
      "cell_type": "code",
      "metadata": {
        "id": "UZBKbXF6qoER"
      },
      "source": [
        "def pfda(t, x, u, p):\n",
        "  '''pFDA dynamics'''\n",
        "  return np.array([x[1] + p[0]/p[1] * u, -1/p[1] * (x[1] + p[0]/p[1] * u)]).flatten()\n",
        "\n",
        "pa = [80e-6, 0.5]   # pFDA parameters\n",
        "ua = 1              # control\n",
        "\n",
        "# solve the initial value problem\n",
        "sol = solve_ivp(pfda, [0, 5], [0, 0], args=(ua, pa), first_step=0.1, max_step=0.1)\n",
        "\n",
        "# grab simulation output and create output vector from simulated state vector\n",
        "t = sol.t\n",
        "xa = sol.y\n",
        "ya = copy.deepcopy(xa)\n",
        "ya[1,:] = ya[1,:] + pa[0]/pa[1]*ua"
      ],
      "execution_count": 45,
      "outputs": []
    },
    {
      "cell_type": "markdown",
      "metadata": {
        "id": "_8hBZf2R9s9W"
      },
      "source": [
        "## Spacecraft Object"
      ]
    },
    {
      "cell_type": "code",
      "metadata": {
        "id": "KsXbr7oy_GTd"
      },
      "source": [
        "class AngularRate:\n",
        "  def __init__(self, rate=(0.0, 0.0, 0.0)):\n",
        "    self._rate = np.array(rate)\n",
        "\n",
        "  @classmethod\n",
        "  def from_degrees(cls, rate):\n",
        "    \"\"\"Initialize from angular rate vector in degree per second.\n",
        "    \"\"\"\n",
        "    return cls(np.radians(np.array(rate)))\n",
        "\n",
        "  def __str__(self):\n",
        "      \"\"\"An informal, nicely printable string representation of the AngularRate object.\n",
        "      \"\"\"\n",
        "      return \"{:.3f} {:.3f} {:.3f}\".format(self._rate[0], self._rate[1], self._rate[2])\n",
        "\n",
        "  def __repr__(self):\n",
        "    \"\"\"The 'official' string representation of the AngularRate object.\n",
        "\n",
        "    This is a string representation of a valid Python expression that could be\n",
        "    used to recreate an object with the same value (given an appropriate\n",
        "    environment)\n",
        "    \"\"\"\n",
        "    return \"AngularRate({!r}, {!r}, {!r})\".format(self._rate[0], self._rate[1], self._rate[2])\n",
        "\n",
        "  def derivative(self, inertia=np.eye(3), torques=np.array((0.0, 0.0, 0.0)),angular_momenta=np.array((0.0, 0.0, 0.0))):\n",
        "    return np.linalg.inv(inertia) @ (torques - np.cross(self._rate, inertia @ self._rate + angular_momenta))\n",
        "\n",
        "  def update(self, inertia=np.eye(3), torques=np.array((0.0, 0.0, 0.0)), angular_momenta=np.array((0.0, 0.0, 0.0))):\n",
        "    # TODO: implement update, maybe based on ivp_solve?\n",
        "    # NOTE: How to deal with parallel updates for actuators and stuff?\n",
        "    raise NotImplementedError()\n",
        "\n",
        "  @property\n",
        "  def rate(self):\n",
        "    return self._rate"
      ],
      "execution_count": 46,
      "outputs": []
    },
    {
      "cell_type": "code",
      "metadata": {
        "id": "aJT_4kHd9yCc"
      },
      "source": [
        "class Spacecraft:\n",
        "  def __init__(self, inertia=np.eye(3), attitude=Quaternion(1), rate=AngularRate(), disturbances=[None], actuators=[None], controller=None,):\n",
        "    self._inertia = inertia\n",
        "    self._attitude = attitude\n",
        "    self._rate = rate\n",
        "    self._actuators = actuators\n",
        "\n",
        "  def update(self):\n",
        "    \"\"\"TODO: implement update of attitude, angular rate, and all actuators.\n",
        "    \"\"\"\n",
        "    raise NotImplementedError\n",
        "\n",
        "  @property\n",
        "  def attitude(self):\n",
        "    return self._attitude\n",
        "\n",
        "  @property\n",
        "  def rate(self):\n",
        "    return self._rate"
      ],
      "execution_count": 47,
      "outputs": []
    },
    {
      "cell_type": "code",
      "metadata": {
        "id": "nCxeitIY_a3I",
        "outputId": "6f77c31c-320d-4b6e-ddc2-ea444356efe0",
        "colab": {
          "base_uri": "https://localhost:8080/",
          "height": 355
        }
      },
      "source": [
        "rate_degrees = (0.0, 1, 0.0)\n",
        "\n",
        "spacecraft = Spacecraft(rate=AngularRate.from_degrees(rate_degrees))\n",
        "print(spacecraft.attitude)\n",
        "print(spacecraft.rate)\n",
        "spacecraft.update()"
      ],
      "execution_count": 48,
      "outputs": [
        {
          "output_type": "stream",
          "text": [
            "1.000 +0.000i +0.000j +0.000k\n",
            "0.000 0.017 0.000\n"
          ],
          "name": "stdout"
        },
        {
          "output_type": "error",
          "ename": "NotImplementedError",
          "evalue": "ignored",
          "traceback": [
            "\u001b[0;31m---------------------------------------------------------------------------\u001b[0m",
            "\u001b[0;31mNotImplementedError\u001b[0m                       Traceback (most recent call last)",
            "\u001b[0;32m<ipython-input-48-7398be5abdf3>\u001b[0m in \u001b[0;36m<module>\u001b[0;34m()\u001b[0m\n\u001b[1;32m      4\u001b[0m \u001b[0mprint\u001b[0m\u001b[0;34m(\u001b[0m\u001b[0mspacecraft\u001b[0m\u001b[0;34m.\u001b[0m\u001b[0mattitude\u001b[0m\u001b[0;34m)\u001b[0m\u001b[0;34m\u001b[0m\u001b[0;34m\u001b[0m\u001b[0m\n\u001b[1;32m      5\u001b[0m \u001b[0mprint\u001b[0m\u001b[0;34m(\u001b[0m\u001b[0mspacecraft\u001b[0m\u001b[0;34m.\u001b[0m\u001b[0mrate\u001b[0m\u001b[0;34m)\u001b[0m\u001b[0;34m\u001b[0m\u001b[0;34m\u001b[0m\u001b[0m\n\u001b[0;32m----> 6\u001b[0;31m \u001b[0mspacecraft\u001b[0m\u001b[0;34m.\u001b[0m\u001b[0mupdate\u001b[0m\u001b[0;34m(\u001b[0m\u001b[0;34m)\u001b[0m\u001b[0;34m\u001b[0m\u001b[0;34m\u001b[0m\u001b[0m\n\u001b[0m",
            "\u001b[0;32m<ipython-input-47-54acd46dbe1e>\u001b[0m in \u001b[0;36mupdate\u001b[0;34m(self)\u001b[0m\n\u001b[1;32m      9\u001b[0m     \"\"\"TODO: implement update of attitude, angular rate, and all actuators.\n\u001b[1;32m     10\u001b[0m     \"\"\"\n\u001b[0;32m---> 11\u001b[0;31m     \u001b[0;32mraise\u001b[0m \u001b[0mNotImplementedError\u001b[0m\u001b[0;34m\u001b[0m\u001b[0;34m\u001b[0m\u001b[0m\n\u001b[0m\u001b[1;32m     12\u001b[0m \u001b[0;34m\u001b[0m\u001b[0m\n\u001b[1;32m     13\u001b[0m   \u001b[0;34m@\u001b[0m\u001b[0mproperty\u001b[0m\u001b[0;34m\u001b[0m\u001b[0;34m\u001b[0m\u001b[0m\n",
            "\u001b[0;31mNotImplementedError\u001b[0m: "
          ]
        }
      ]
    }
  ]
}