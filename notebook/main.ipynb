{
  "nbformat": 4,
  "nbformat_minor": 0,
  "metadata": {
    "kernelspec": {
      "display_name": "Python 3",
      "language": "python",
      "name": "python3"
    },
    "language_info": {
      "codemirror_mode": {
        "name": "ipython",
        "version": 3
      },
      "file_extension": ".py",
      "mimetype": "text/x-python",
      "name": "python",
      "nbconvert_exporter": "python",
      "pygments_lexer": "ipython3",
      "version": "3.8.5"
    },
    "colab": {
      "name": "main.ipynb",
      "provenance": []
    }
  },
  "cells": [
    {
      "cell_type": "code",
      "metadata": {
        "colab": {
          "base_uri": "https://localhost:8080/"
        },
        "id": "Nnd0XQjS5RT1",
        "outputId": "827e7948-92b3-43de-d180-90ac885ab99b"
      },
      "source": [
        "!pip install pyquaternion"
      ],
      "execution_count": 3,
      "outputs": [
        {
          "output_type": "stream",
          "text": [
            "Collecting pyquaternion\n",
            "  Downloading https://files.pythonhosted.org/packages/49/b3/d8482e8cacc8ea15a356efea13d22ce1c5914a9ee36622ba250523240bf2/pyquaternion-0.9.9-py3-none-any.whl\n",
            "Requirement already satisfied: numpy in /usr/local/lib/python3.7/dist-packages (from pyquaternion) (1.19.5)\n",
            "Installing collected packages: pyquaternion\n",
            "Successfully installed pyquaternion-0.9.9\n"
          ],
          "name": "stdout"
        }
      ]
    },
    {
      "cell_type": "code",
      "metadata": {
        "id": "07W6gk2C5L_o"
      },
      "source": [
        "from bokeh.io import output_notebook, show, curdoc\n",
        "curdoc().theme = 'light_minimal'\n",
        "output_notebook()\n",
        "from bokeh.plotting import figure\n",
        " \n",
        "import numpy as np\n",
        "import numpy.matlib\n",
        "from numpy import random\n",
        "\n",
        "from scipy.integrate import solve_ivp\n",
        "from scipy.optimize import minimize, fminbound\n",
        "from scipy.interpolate import pchip_interpolate\n",
        "\n",
        "import copy\n",
        "\n",
        "from pyquaternion import Quaternion\n",
        "\n",
        "import math\n",
        "\n",
        "import warnings"
      ],
      "execution_count": 51,
      "outputs": []
    },
    {
      "cell_type": "markdown",
      "metadata": {
        "id": "Qp95xo1443P0"
      },
      "source": [
        "# Attitude Determiniation and Control Systems"
      ]
    },
    {
      "cell_type": "markdown",
      "metadata": {
        "id": "opEDlaDu7i--"
      },
      "source": [
        "## Kinematics Equation"
      ]
    },
    {
      "cell_type": "code",
      "metadata": {
        "id": "dJTtRFwv8CoX"
      },
      "source": [
        "def kinematics(attitude = Quaternion(1), rate=np.array((0.0, 0.0, 0.0))):\n",
        "  return attitude.derivative(rate)"
      ],
      "execution_count": 5,
      "outputs": []
    },
    {
      "cell_type": "code",
      "metadata": {
        "colab": {
          "base_uri": "https://localhost:8080/"
        },
        "id": "hIeWEkwa7iqm",
        "outputId": "76245c1d-5acd-4fc3-a73c-25a8aa69e711"
      },
      "source": [
        "attitude = Quaternion(1)\n",
        "rate = np.radians(np.array((0.2, 0.0, 0.0)))\n",
        "print(rate)\n",
        "\n",
        "attitude_derivative = kinematics(attitude, rate)"
      ],
      "execution_count": 6,
      "outputs": [
        {
          "output_type": "stream",
          "text": [
            "[0.00349066 0.         0.        ]\n"
          ],
          "name": "stdout"
        }
      ]
    },
    {
      "cell_type": "code",
      "metadata": {
        "colab": {
          "base_uri": "https://localhost:8080/"
        },
        "id": "vD9h9LZz8h9H",
        "outputId": "f9fe78a9-0ccc-4a0b-8524-587bb99d44a7"
      },
      "source": [
        "# Quaternion kinematics are handled by the Quaternion class\n",
        "print(\"\\nattitude derivative: {0}\".format(attitude_derivative))"
      ],
      "execution_count": 7,
      "outputs": [
        {
          "output_type": "stream",
          "text": [
            "\n",
            "attitude derivative: +0.000 +0.002i +0.000j +0.000k\n"
          ],
          "name": "stdout"
        }
      ]
    },
    {
      "cell_type": "markdown",
      "metadata": {
        "id": "9ISihN3y7SP3"
      },
      "source": [
        "## Dynamics Equation"
      ]
    },
    {
      "cell_type": "code",
      "metadata": {
        "id": "KATG7ghKFieo"
      },
      "source": [
        "def dynamics(inertia=np.eye(3), torques=np.array((0.0, 0.0, 0.0)), rate=np.array((0.0, 0.0, 0.0)), angular_momenta=np.array((0.0, 0.0, 0.0))):\n",
        "  return np.linalg.inv(inertia) @ (torques - np.cross(rate, inertia @ rate + angular_momenta))"
      ],
      "execution_count": 8,
      "outputs": []
    },
    {
      "cell_type": "code",
      "metadata": {
        "id": "jskhsOvG7_W9"
      },
      "source": [
        "inertia = 2000e-6 * np.eye(3)\n",
        "\n",
        "torques = np.array((1e-6, 0.0, 0.0))\n",
        "angular_momenta = np.array((0.0, 0.1, 0.0))\n",
        "\n",
        "rate_derivative = dynamics(inertia, torques, rate, angular_momenta)"
      ],
      "execution_count": 9,
      "outputs": []
    },
    {
      "cell_type": "code",
      "metadata": {
        "colab": {
          "base_uri": "https://localhost:8080/"
        },
        "id": "oYHngi1yxrJA",
        "outputId": "062498b3-7d79-41a7-e8c9-31014d761214"
      },
      "source": [
        "print(\"inertia:\\n{0}\".format(inertia))\n",
        "print(\"\\nattitude: {0}\".format(attitude))\n",
        "print(\"\\nrate: {0}\".format(np.degrees(rate)))\n",
        "\n",
        "# dynamics are defined by above function\n",
        "print(\"\\nrate derivative: {0}\".format(rate_derivative))"
      ],
      "execution_count": 10,
      "outputs": [
        {
          "output_type": "stream",
          "text": [
            "inertia:\n",
            "[[0.002 0.    0.   ]\n",
            " [0.    0.002 0.   ]\n",
            " [0.    0.    0.002]]\n",
            "\n",
            "attitude: +1.000 +0.000i +0.000j +0.000k\n",
            "\n",
            "rate: [0.2 0.  0. ]\n",
            "\n",
            "rate derivative: [ 0.0005      0.         -0.17453293]\n"
          ],
          "name": "stdout"
        }
      ]
    },
    {
      "cell_type": "markdown",
      "metadata": {
        "id": "iMPcueSl6MAy"
      },
      "source": [
        "## pFDA Model"
      ]
    },
    {
      "cell_type": "code",
      "metadata": {
        "id": "ryHXISuv90Ws"
      },
      "source": [
        "class Actuator:\n",
        "  \"\"\"Actuator base class.\n",
        "  \"\"\"\n",
        "  def __init__(self, alignment=np.array((1.0, 0.0, 0.0)), angular_momentum=0, input=0, torque=0):\n",
        "    self.alignment = alignment\n",
        "    self.angular_momentum = angular_momentum\n",
        "    self.input = input\n",
        "    self.torque = torque\n",
        "\n",
        "  @property\n",
        "  def alignment(self):\n",
        "    return self._alignment\n",
        "\n",
        "  @alignment.setter\n",
        "  def alignment(self, new):\n",
        "    self._alignment = new\n",
        "\n",
        "  @property\n",
        "  def angular_momentum(self):\n",
        "    return self._angular_momentum * self._alignment\n",
        "\n",
        "  @angular_momentum.setter\n",
        "  def angular_momentum(self, new):\n",
        "    self._angular_momentum = new\n",
        "\n",
        "  @property\n",
        "  def input(self):\n",
        "    return self._input\n",
        "\n",
        "  @input.setter\n",
        "  def input(self, new):\n",
        "    self._input = new\n",
        "\n",
        "  @property\n",
        "  def torque(self):\n",
        "    return self._torque * self._alignment\n",
        "\n",
        "  @torque.setter\n",
        "  def torque(self, new):\n",
        "    self._torque = new"
      ],
      "execution_count": 36,
      "outputs": []
    },
    {
      "cell_type": "code",
      "metadata": {
        "id": "OP63lweE-rHK",
        "outputId": "05bdfbb0-662d-4b6d-85d6-3ea06eeb827b",
        "colab": {
          "base_uri": "https://localhost:8080/",
          "height": 235
        }
      },
      "source": [
        "actuator = Actuator(torque=1e-6)\n",
        "print(actuator.torque)\n",
        "print(actuator.angular_momentum)\n",
        "actuator.input(1)"
      ],
      "execution_count": 63,
      "outputs": [
        {
          "output_type": "stream",
          "text": [
            "[1.e-06 0.e+00 0.e+00]\n",
            "[0. 0. 0.]\n"
          ],
          "name": "stdout"
        },
        {
          "output_type": "error",
          "ename": "TypeError",
          "evalue": "ignored",
          "traceback": [
            "\u001b[0;31m---------------------------------------------------------------------------\u001b[0m",
            "\u001b[0;31mTypeError\u001b[0m                                 Traceback (most recent call last)",
            "\u001b[0;32m<ipython-input-63-1a0fba231636>\u001b[0m in \u001b[0;36m<module>\u001b[0;34m()\u001b[0m\n\u001b[1;32m      2\u001b[0m \u001b[0mprint\u001b[0m\u001b[0;34m(\u001b[0m\u001b[0mactuator\u001b[0m\u001b[0;34m.\u001b[0m\u001b[0mtorque\u001b[0m\u001b[0;34m)\u001b[0m\u001b[0;34m\u001b[0m\u001b[0;34m\u001b[0m\u001b[0m\n\u001b[1;32m      3\u001b[0m \u001b[0mprint\u001b[0m\u001b[0;34m(\u001b[0m\u001b[0mactuator\u001b[0m\u001b[0;34m.\u001b[0m\u001b[0mangular_momentum\u001b[0m\u001b[0;34m)\u001b[0m\u001b[0;34m\u001b[0m\u001b[0;34m\u001b[0m\u001b[0m\n\u001b[0;32m----> 4\u001b[0;31m \u001b[0mactuator\u001b[0m\u001b[0;34m.\u001b[0m\u001b[0minput\u001b[0m\u001b[0;34m(\u001b[0m\u001b[0;36m1\u001b[0m\u001b[0;34m)\u001b[0m\u001b[0;34m\u001b[0m\u001b[0;34m\u001b[0m\u001b[0m\n\u001b[0m",
            "\u001b[0;31mTypeError\u001b[0m: 'int' object is not callable"
          ]
        }
      ]
    },
    {
      "cell_type": "code",
      "metadata": {
        "id": "o3lPBEmSEmEH"
      },
      "source": [
        "class Pfda(Actuator):\n",
        "  def __init__(self, alignment=np.array((1.0, 0.0, 0.0)), angular_momentum=0, gain=1, input=0, time_constant=1, torque=0):\n",
        "    super().__init__(alignment=alignment, angular_momentum=angular_momentum, input=input, torque=torque)\n",
        "    self.gain = gain\n",
        "    self.time_constant = time_constant\n",
        "\n",
        "  @property\n",
        "  def gain(self):\n",
        "    return self._gain\n",
        "\n",
        "  @gain.setter\n",
        "  def gain(self, new):\n",
        "    if new > 0:\n",
        "      self._gain = new\n",
        "    else:\n",
        "      raise ValueError('Negative gain is not allowed!')\n",
        "\n",
        "  @property\n",
        "  def input(self):\n",
        "    return self._input\n",
        "    \n",
        "  @input.setter\n",
        "  def input(self, new):\n",
        "    if new < -1:\n",
        "      self._input = -1\n",
        "      warnings.warn(\"Input less than -1\")\n",
        "    elif new > 1:\n",
        "      self._input = 1\n",
        "      warnings.warn(\"Input greater than 1\")\n",
        "    else:\n",
        "      self._input = new\n",
        "  \n",
        "  @property\n",
        "  def time_constant(self):\n",
        "    return self._time_constant\n",
        "\n",
        "  @time_constant.setter\n",
        "  def time_constant(self, new):\n",
        "    if new > 0:\n",
        "      self._time_constant = new\n",
        "    else:\n",
        "      raise ValueError('Negative time constant is not allowed')"
      ],
      "execution_count": 58,
      "outputs": []
    },
    {
      "cell_type": "code",
      "metadata": {
        "id": "e3pEVNclHmfy",
        "outputId": "cc118915-a853-4e10-c213-0296c4582741",
        "colab": {
          "base_uri": "https://localhost:8080/"
        }
      },
      "source": [
        "pfda = Pfda(gain=80e-6, time_constant=0.5)\n",
        "print(pfda.gain)\n",
        "print(pfda.time_constant)\n",
        "print(pfda.input)"
      ],
      "execution_count": 62,
      "outputs": [
        {
          "output_type": "stream",
          "text": [
            "8e-05\n",
            "0.5\n",
            "0\n"
          ],
          "name": "stdout"
        }
      ]
    },
    {
      "cell_type": "code",
      "metadata": {
        "id": "UZBKbXF6qoER"
      },
      "source": [
        "def pfda(t, x, u, p):\n",
        "  '''pFDA dynamics'''\n",
        "  return np.array([x[1] + p[0]/p[1] * u, -1/p[1] * (x[1] + p[0]/p[1] * u)]).flatten()\n",
        "\n",
        "pa = [80e-6, 0.5]   # pFDA parameters\n",
        "ua = 1              # control\n",
        "\n",
        "# solve the initial value problem\n",
        "sol = solve_ivp(pfda, [0, 5], [0, 0], args=(ua, pa), first_step=0.1, max_step=0.1)\n",
        "\n",
        "# grab simulation output and create output vector from simulated state vector\n",
        "t = sol.t\n",
        "xa = sol.y\n",
        "ya = copy.deepcopy(xa)\n",
        "ya[1,:] = ya[1,:] + pa[0]/pa[1]*ua"
      ],
      "execution_count": 45,
      "outputs": []
    },
    {
      "cell_type": "markdown",
      "metadata": {
        "id": "_8hBZf2R9s9W"
      },
      "source": [
        "## Spacecraft Object"
      ]
    },
    {
      "cell_type": "code",
      "metadata": {
        "id": "KsXbr7oy_GTd"
      },
      "source": [
        "class AngularRate:\n",
        "  def __init__(self, rate=(0.0, 0.0, 0.0)):\n",
        "    self._rate = np.array(rate)\n",
        "\n",
        "  @classmethod\n",
        "  def from_degrees(cls, rate):\n",
        "    \"\"\"Initialize from angular rate vector in degree per second.\n",
        "    \"\"\"\n",
        "    return cls(np.radians(np.array(rate)))\n",
        "\n",
        "  def __str__(self):\n",
        "      \"\"\"An informal, nicely printable string representation of the AngularRate object.\n",
        "      \"\"\"\n",
        "      return \"{:.3f} {:.3f} {:.3f}\".format(self._rate[0], self._rate[1], self._rate[2])\n",
        "\n",
        "  def __repr__(self):\n",
        "    \"\"\"The 'official' string representation of the AngularRate object.\n",
        "\n",
        "    This is a string representation of a valid Python expression that could be\n",
        "    used to recreate an object with the same value (given an appropriate\n",
        "    environment)\n",
        "    \"\"\"\n",
        "    return \"AngularRate({!r}, {!r}, {!r})\".format(self._rate[0], self._rate[1], self._rate[2])\n",
        "\n",
        "  def derivative(self, inertia=np.eye(3), torques=np.array((0.0, 0.0, 0.0)),angular_momenta=np.array((0.0, 0.0, 0.0))):\n",
        "    return np.linalg.inv(inertia) @ (torques - np.cross(self._rate, inertia @ self._rate + angular_momenta))\n",
        "\n",
        "  def update(self, inertia=np.eye(3), torques=np.array((0.0, 0.0, 0.0)), angular_momenta=np.array((0.0, 0.0, 0.0))):\n",
        "    # TODO: implement update, maybe based on ivp_solve?\n",
        "    # NOTE: How to deal with parallel updates for actuators and stuff?\n",
        "    raise NotImplementedError()\n",
        "\n",
        "  @property\n",
        "  def rate(self):\n",
        "    return self._rate"
      ],
      "execution_count": 46,
      "outputs": []
    },
    {
      "cell_type": "code",
      "metadata": {
        "id": "aJT_4kHd9yCc"
      },
      "source": [
        "class Spacecraft:\n",
        "  def __init__(self, inertia=np.eye(3), attitude=Quaternion(1), rate=AngularRate(), disturbances=[None], actuators=[None], controller=None,):\n",
        "    self._inertia = inertia\n",
        "    self._attitude = attitude\n",
        "    self._rate = rate\n",
        "    self._actuators = actuators\n",
        "\n",
        "  def update(self):\n",
        "    \"\"\"TODO: implement update of attitude, angular rate, and all actuators.\n",
        "    \"\"\"\n",
        "    raise NotImplementedError\n",
        "\n",
        "  @property\n",
        "  def attitude(self):\n",
        "    return self._attitude\n",
        "\n",
        "  @property\n",
        "  def rate(self):\n",
        "    return self._rate"
      ],
      "execution_count": 47,
      "outputs": []
    },
    {
      "cell_type": "code",
      "metadata": {
        "id": "nCxeitIY_a3I",
        "outputId": "6f77c31c-320d-4b6e-ddc2-ea444356efe0",
        "colab": {
          "base_uri": "https://localhost:8080/",
          "height": 355
        }
      },
      "source": [
        "rate_degrees = (0.0, 1, 0.0)\n",
        "\n",
        "spacecraft = Spacecraft(rate=AngularRate.from_degrees(rate_degrees))\n",
        "print(spacecraft.attitude)\n",
        "print(spacecraft.rate)\n",
        "spacecraft.update()"
      ],
      "execution_count": 48,
      "outputs": [
        {
          "output_type": "stream",
          "text": [
            "1.000 +0.000i +0.000j +0.000k\n",
            "0.000 0.017 0.000\n"
          ],
          "name": "stdout"
        },
        {
          "output_type": "error",
          "ename": "NotImplementedError",
          "evalue": "ignored",
          "traceback": [
            "\u001b[0;31m---------------------------------------------------------------------------\u001b[0m",
            "\u001b[0;31mNotImplementedError\u001b[0m                       Traceback (most recent call last)",
            "\u001b[0;32m<ipython-input-48-7398be5abdf3>\u001b[0m in \u001b[0;36m<module>\u001b[0;34m()\u001b[0m\n\u001b[1;32m      4\u001b[0m \u001b[0mprint\u001b[0m\u001b[0;34m(\u001b[0m\u001b[0mspacecraft\u001b[0m\u001b[0;34m.\u001b[0m\u001b[0mattitude\u001b[0m\u001b[0;34m)\u001b[0m\u001b[0;34m\u001b[0m\u001b[0;34m\u001b[0m\u001b[0m\n\u001b[1;32m      5\u001b[0m \u001b[0mprint\u001b[0m\u001b[0;34m(\u001b[0m\u001b[0mspacecraft\u001b[0m\u001b[0;34m.\u001b[0m\u001b[0mrate\u001b[0m\u001b[0;34m)\u001b[0m\u001b[0;34m\u001b[0m\u001b[0;34m\u001b[0m\u001b[0m\n\u001b[0;32m----> 6\u001b[0;31m \u001b[0mspacecraft\u001b[0m\u001b[0;34m.\u001b[0m\u001b[0mupdate\u001b[0m\u001b[0;34m(\u001b[0m\u001b[0;34m)\u001b[0m\u001b[0;34m\u001b[0m\u001b[0;34m\u001b[0m\u001b[0m\n\u001b[0m",
            "\u001b[0;32m<ipython-input-47-54acd46dbe1e>\u001b[0m in \u001b[0;36mupdate\u001b[0;34m(self)\u001b[0m\n\u001b[1;32m      9\u001b[0m     \"\"\"TODO: implement update of attitude, angular rate, and all actuators.\n\u001b[1;32m     10\u001b[0m     \"\"\"\n\u001b[0;32m---> 11\u001b[0;31m     \u001b[0;32mraise\u001b[0m \u001b[0mNotImplementedError\u001b[0m\u001b[0;34m\u001b[0m\u001b[0;34m\u001b[0m\u001b[0m\n\u001b[0m\u001b[1;32m     12\u001b[0m \u001b[0;34m\u001b[0m\u001b[0m\n\u001b[1;32m     13\u001b[0m   \u001b[0;34m@\u001b[0m\u001b[0mproperty\u001b[0m\u001b[0;34m\u001b[0m\u001b[0;34m\u001b[0m\u001b[0m\n",
            "\u001b[0;31mNotImplementedError\u001b[0m: "
          ]
        }
      ]
    }
  ]
}